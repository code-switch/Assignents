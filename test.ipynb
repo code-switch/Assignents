{
  "nbformat": 4,
  "nbformat_minor": 0,
  "metadata": {
    "colab": {
      "provenance": []
    },
    "kernelspec": {
      "name": "python3",
      "display_name": "Python 3"
    },
    "language_info": {
      "name": "python"
    }
  },
  "cells": [
    {
      "cell_type": "code",
      "execution_count": null,
      "metadata": {
        "id": "wX-cQOQSHHVg"
      },
      "outputs": [],
      "source": []
    },
    {
      "cell_type": "markdown",
      "source": [
        "Q."
      ],
      "metadata": {
        "id": "ZmrbiOLIHLl8"
      }
    },
    {
      "cell_type": "markdown",
      "source": [
        "A, aksdf"
      ],
      "metadata": {
        "id": "UuaiSXt5HPj6"
      }
    },
    {
      "cell_type": "code",
      "source": [
        "print('abhi')"
      ],
      "metadata": {
        "colab": {
          "base_uri": "https://localhost:8080/"
        },
        "id": "lMuT-waAHRVz",
        "outputId": "6f019b4c-ae3b-448c-bf10-c7dfcb60a213"
      },
      "execution_count": 1,
      "outputs": [
        {
          "output_type": "stream",
          "name": "stdout",
          "text": [
            "abhi\n"
          ]
        }
      ]
    }
  ]
}